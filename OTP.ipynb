{
 "cells": [
  {
   "cell_type": "code",
   "execution_count": 1,
   "metadata": {},
   "outputs": [],
   "source": [
    "import random"
   ]
  },
  {
   "cell_type": "code",
   "execution_count": 2,
   "metadata": {},
   "outputs": [],
   "source": [
    "def xOr(a, b):\n",
    "    return a ^ b"
   ]
  },
  {
   "cell_type": "code",
   "execution_count": 3,
   "metadata": {},
   "outputs": [
    {
     "name": "stdout",
     "output_type": "stream",
     "text": [
      "0 0\n",
      "0 1\n",
      "1 0\n",
      "1 1\n"
     ]
    }
   ],
   "source": [
    "for i in range(0,2):\n",
    "    for j in range(0,2):\n",
    "        print(i, j)\n",
    "        xOr(i, j)"
   ]
  },
  {
   "cell_type": "code",
   "execution_count": 4,
   "metadata": {},
   "outputs": [],
   "source": [
    "def getBits(n):\n",
    "    bits = \"\"\n",
    "    for i in range(0,n):\n",
    "        bit = random.randint(0,1)\n",
    "        bits += str(bit)\n",
    "    return bits"
   ]
  },
  {
   "cell_type": "code",
   "execution_count": 5,
   "metadata": {},
   "outputs": [
    {
     "name": "stdout",
     "output_type": "stream",
     "text": [
      "0011 = 3\n",
      "1001 = 9\n"
     ]
    }
   ],
   "source": [
    "a = getBits(4)\n",
    "b = getBits(4)\n",
    "print(a + \" = \" + str(int(a,2)) + \"\\n\" + b + \" = \" + str(int(b,2)))"
   ]
  },
  {
   "cell_type": "code",
   "execution_count": 6,
   "metadata": {},
   "outputs": [],
   "source": [
    "def xOrStrings(a, b):\n",
    "    bits = \"\"\n",
    "    if len(a) != len(b):\n",
    "        return None\n",
    "    else:\n",
    "        for i in range(0, len(a)):\n",
    "            bit = int(a[i]) ^ int(b[i]) \n",
    "            bits = bits + str(bit)\n",
    "    return bits"
   ]
  },
  {
   "cell_type": "code",
   "execution_count": 7,
   "metadata": {},
   "outputs": [
    {
     "name": "stdout",
     "output_type": "stream",
     "text": [
      "1010 = 10\n"
     ]
    }
   ],
   "source": [
    "cyphertext = xOrStrings(a, b)\n",
    "print(cyphertext + \" = \" + str(int(cyphertext,2)))"
   ]
  },
  {
   "cell_type": "code",
   "execution_count": 8,
   "metadata": {},
   "outputs": [
    {
     "name": "stdout",
     "output_type": "stream",
     "text": [
      "0011 = 3\n"
     ]
    }
   ],
   "source": [
    "plaintext = xOrStrings(b, cyphertext)\n",
    "print(plaintext + \" = \" + str(int(plaintext,2)))"
   ]
  },
  {
   "cell_type": "code",
   "execution_count": 20,
   "metadata": {},
   "outputs": [],
   "source": [
    "def getKey(n):\n",
    "    return bytes([random.randrange(0,256) for i in range(n)])"
   ]
  },
  {
   "cell_type": "code",
   "execution_count": 31,
   "metadata": {},
   "outputs": [],
   "source": [
    "def xor_bytes(key,data):\n",
    "    if(len(key)!=len(data)):\n",
    "        print(\"error\")\n",
    "        return\n",
    "    else:\n",
    "        return bytes([key[i] ^ data[i] for i in range(len(key))])"
   ]
  },
  {
   "cell_type": "code",
   "execution_count": 74,
   "metadata": {},
   "outputs": [],
   "source": [
    "message = \"this is a secret\""
   ]
  },
  {
   "cell_type": "code",
   "execution_count": 75,
   "metadata": {},
   "outputs": [],
   "source": [
    "key = getKey(len(message))"
   ]
  },
  {
   "cell_type": "code",
   "execution_count": 76,
   "metadata": {},
   "outputs": [
    {
     "name": "stdout",
     "output_type": "stream",
     "text": [
      "b'.\\x92\\x9d\\xd4\\xe6\\x8f\\xf0\\x970X\\xa7g\\xf74 \\x03'\n"
     ]
    }
   ],
   "source": [
    "#  encrypt\n",
    "cipherText = xor_bytes(key, message.encode())\n",
    "print(cipherText)"
   ]
  },
  {
   "cell_type": "code",
   "execution_count": 78,
   "metadata": {},
   "outputs": [
    {
     "name": "stdout",
     "output_type": "stream",
     "text": [
      "this is a secret\n"
     ]
    }
   ],
   "source": [
    "#  decrypt\n",
    "plainText = xor_bytes(key, cipherText)\n",
    "print(plainText.decode())"
   ]
  }
 ],
 "metadata": {
  "kernelspec": {
   "display_name": "Python 3",
   "language": "python",
   "name": "python3"
  },
  "language_info": {
   "codemirror_mode": {
    "name": "ipython",
    "version": 3
   },
   "file_extension": ".py",
   "mimetype": "text/x-python",
   "name": "python",
   "nbconvert_exporter": "python",
   "pygments_lexer": "ipython3",
   "version": "3.8.5"
  }
 },
 "nbformat": 4,
 "nbformat_minor": 4
}
