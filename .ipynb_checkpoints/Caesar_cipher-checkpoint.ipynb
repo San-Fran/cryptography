{
 "cells": [
  {
   "cell_type": "markdown",
   "metadata": {
    "id": "DC8ZIOrxDKZy"
   },
   "source": [
    "#Encrypt and Decrypt data using the Caesar Cipher"
   ]
  },
  {
   "cell_type": "code",
   "execution_count": null,
   "metadata": {
    "id": "aYrJTqfpBWOv"
   },
   "outputs": [],
   "source": [
    "# declare plaintext variable\n",
    "plaintext = \"hello world this is the first message that i have encrypted using the ceaser cipher\""
   ]
  },
  {
   "cell_type": "code",
   "execution_count": null,
   "metadata": {
    "id": "lmfTqqHXB1SC"
   },
   "outputs": [],
   "source": [
    "alphabet = {\"a\": 0, \"b\" : 1, \"c\" : 2, \"d\" : 3,\n",
    "            \"e\": 4, \"f\" : 5, \"g\" : 6, \"h\" : 7,\n",
    "            \"i\": 8, \"j\" : 9, \"k\" : 10, \"l\" : 11,\n",
    "            \"m\": 12, \"n\" : 13, \"o\" : 14, \"p\" : 15,\n",
    "            \"q\": 16, \"r\" : 17, \"s\" : 18, \"t\" : 19,\n",
    "            \"u\": 20, \"v\" : 21, \"w\" : 22, \"x\" : 23,\n",
    "            \"y\": 24, \"z\" : 25\n",
    "}"
   ]
  },
  {
   "cell_type": "code",
   "execution_count": null,
   "metadata": {
    "id": "10q6QT6REUDV"
   },
   "outputs": [],
   "source": [
    "positionOfLetters = {\n",
    "    0: \"a\", 1: \"b\", 2: \"c\", 3: \"d\", 4: \"e\", 5: \"f\", 6: \"g\",7: \"h\", 8: \"i\", 9: \"j\", 10: \"k\", 11: \"l\", 12: \"m\", 13: \"n\",\n",
    "    14: \"o\", 15: \"p\", 16: \"q\", 17: \"r\", 18: \"s\", 19: \"t\", 20: \"u\", 21: \"v\", 22: \"w\", 23: \"x\", 24: \"y\", 25: \"z\",\n",
    "}"
   ]
  },
  {
   "cell_type": "code",
   "execution_count": null,
   "metadata": {
    "id": "NfT1-vkUBJqO"
   },
   "outputs": [],
   "source": [
    "def encrypt(key, message):\n",
    "  cipherText = \"\"\n",
    "  for letter in message:\n",
    "    if(letter!=\" \"):\n",
    "      newPosition = (alphabet.get(letter) + key) % 26\n",
    "      cipherText += positionOfLetters.get(newPosition)\n",
    "    else:\n",
    "      cipherText += \" \"\n",
    "  return cipherText"
   ]
  },
  {
   "cell_type": "code",
   "execution_count": null,
   "metadata": {
    "id": "-kes8iR5JI9Y"
   },
   "outputs": [],
   "source": [
    "def decrypt(key, message):\n",
    "  decryptedText = \"\"\n",
    "  for letter in message:\n",
    "    if(letter!=\" \"):\n",
    "      newPosition = (alphabet.get(letter) - key) % 26\n",
    "      decryptedText += positionOfLetters.get(newPosition)\n",
    "    else:\n",
    "      decryptedText += \" \"\n",
    "  return decryptedText"
   ]
  },
  {
   "cell_type": "code",
   "execution_count": null,
   "metadata": {
    "colab": {
     "base_uri": "https://localhost:8080/"
    },
    "id": "iAlPS-8FVTe6",
    "outputId": "3b2f49ae-6bfd-4fc7-ff8b-47ed1cdf7288"
   },
   "outputs": [
    {
     "name": "stdout",
     "output_type": "stream",
     "text": [
      "hello world this is the first message that i have encrypted using the ceaser cipher\n"
     ]
    }
   ],
   "source": [
    "print(plaintext)"
   ]
  },
  {
   "cell_type": "code",
   "execution_count": null,
   "metadata": {
    "colab": {
     "base_uri": "https://localhost:8080/"
    },
    "id": "OOeXFYLuJIRw",
    "outputId": "3778187d-edd1-41e3-e48a-3ad180f56fd2"
   },
   "outputs": [
    {
     "name": "stdout",
     "output_type": "stream",
     "text": [
      "khoor zruog wklv lv wkh iluvw phvvdjh wkdw l kdyh hqfubswhg xvlqj wkh fhdvhu flskhu\n"
     ]
    }
   ],
   "source": [
    "encrypted_text = encrypt(3,plaintext)\n",
    "print(encrypted_text)"
   ]
  },
  {
   "cell_type": "code",
   "execution_count": null,
   "metadata": {
    "colab": {
     "base_uri": "https://localhost:8080/"
    },
    "id": "V8clcPnvBJwD",
    "outputId": "cb2dc0ea-b9db-481b-fcd5-bee72b6f9a35"
   },
   "outputs": [
    {
     "name": "stdout",
     "output_type": "stream",
     "text": [
      "hello world this is the first message that i have encrypted using the ceaser cipher\n"
     ]
    }
   ],
   "source": [
    "text = decrypt(3,encrypted_text)\n",
    "print(text)"
   ]
  },
  {
   "cell_type": "markdown",
   "metadata": {
    "id": "EWtrVwN23Im2"
   },
   "source": [
    "#Attack Caesar Cipher"
   ]
  },
  {
   "cell_type": "code",
   "execution_count": null,
   "metadata": {
    "colab": {
     "base_uri": "https://localhost:8080/"
    },
    "id": "Zd8PG-M8BJ2S",
    "outputId": "b8c13397-20ca-4406-b19a-b7a16ea123fc"
   },
   "outputs": [
    {
     "name": "stdout",
     "output_type": "stream",
     "text": [
      "jgnnq yqtnf vjku ku vjg hktuv oguucig vjcv k jcxg gpetarvgf wukpi vjg egcugt ekrjgt\n",
      "\n",
      "ifmmp xpsme uijt jt uif gjstu nfttbhf uibu j ibwf fodszqufe vtjoh uif dfbtfs djqifs\n",
      "\n",
      "hello world this is the first message that i have encrypted using the ceaser cipher\n",
      "\n",
      "gdkkn vnqkc sghr hr sgd ehqrs ldrrzfd sgzs h gzud dmbqxosdc trhmf sgd bdzrdq bhogdq\n",
      "\n",
      "fcjjm umpjb rfgq gq rfc dgpqr kcqqyec rfyr g fytc clapwnrcb sqgle rfc acyqcp agnfcp\n",
      "\n",
      "ebiil tloia qefp fp qeb cfopq jbppxdb qexq f exsb bkzovmqba rpfkd qeb zbxpbo zfmebo\n",
      "\n",
      "dahhk sknhz pdeo eo pda benop iaoowca pdwp e dwra ajynulpaz qoejc pda yawoan yeldan\n",
      "\n",
      "czggj rjmgy ocdn dn ocz admno hznnvbz ocvo d cvqz zixmtkozy pndib ocz xzvnzm xdkczm\n",
      "\n",
      "byffi qilfx nbcm cm nby zclmn gymmuay nbun c bupy yhwlsjnyx omcha nby wyumyl wcjbyl\n",
      "\n",
      "axeeh phkew mabl bl max ybklm fxlltzx matm b atox xgvkrimxw nlbgz max vxtlxk vbiaxk\n",
      "\n",
      "zwddg ogjdv lzak ak lzw xajkl ewkksyw lzsl a zsnw wfujqhlwv mkafy lzw uwskwj uahzwj\n",
      "\n",
      "yvccf nficu kyzj zj kyv wzijk dvjjrxv kyrk z yrmv vetipgkvu ljzex kyv tvrjvi tzgyvi\n",
      "\n",
      "xubbe mehbt jxyi yi jxu vyhij cuiiqwu jxqj y xqlu udshofjut kiydw jxu suqiuh syfxuh\n",
      "\n",
      "wtaad ldgas iwxh xh iwt uxghi bthhpvt iwpi x wpkt tcrgneits jhxcv iwt rtphtg rxewtg\n",
      "\n",
      "vszzc kcfzr hvwg wg hvs twfgh asggous hvoh w vojs sbqfmdhsr igwbu hvs qsogsf qwdvsf\n",
      "\n",
      "uryyb jbeyq guvf vf gur svefg zrffntr gung v unir rapelcgrq hfvat gur prnfre pvcure\n",
      "\n",
      "tqxxa iadxp ftue ue ftq rudef yqeemsq ftmf u tmhq qzodkbfqp geuzs ftq oqmeqd oubtqd\n",
      "\n",
      "spwwz hzcwo estd td esp qtcde xpddlrp esle t slgp pyncjaepo fdtyr esp npldpc ntaspc\n",
      "\n",
      "rovvy gybvn drsc sc dro psbcd wocckqo drkd s rkfo oxmbizdon ecsxq dro mokcob mszrob\n",
      "\n",
      "qnuux fxaum cqrb rb cqn orabc vnbbjpn cqjc r qjen nwlahycnm dbrwp cqn lnjbna lryqna\n",
      "\n",
      "pmttw ewztl bpqa qa bpm nqzab umaaiom bpib q pidm mvkzgxbml caqvo bpm kmiamz kqxpmz\n",
      "\n",
      "olssv dvysk aopz pz aol mpyza tlzzhnl aoha p ohcl lujyfwalk bzpun aol jlhzly jpwoly\n",
      "\n",
      "nkrru cuxrj znoy oy znk loxyz skyygmk zngz o ngbk ktixevzkj ayotm znk ikgykx iovnkx\n",
      "\n",
      "mjqqt btwqi ymnx nx ymj knwxy rjxxflj ymfy n mfaj jshwduyji zxnsl ymj hjfxjw hnumjw\n",
      "\n",
      "lipps asvph xlmw mw xli jmvwx qiwweki xlex m lezi irgvctxih ywmrk xli giewiv gmtliv\n",
      "\n",
      "0.0069200992584228516 seconds\n"
     ]
    }
   ],
   "source": [
    "import time\n",
    "\n",
    "def bruteForceAttack():\n",
    "  for i in range(1,26):\n",
    "    text = decrypt(i,encrypted_text)\n",
    "    print(text + \"\\n\")\n",
    "\n",
    "t0 = time.time()\n",
    "bruteForceAttack()\n",
    "t1 = time.time()\n",
    "\n",
    "total = t1-t0\n",
    "print(str(total) + \" seconds\")"
   ]
  },
  {
   "cell_type": "code",
   "execution_count": null,
   "metadata": {
    "id": "BQjddAlngvxq"
   },
   "outputs": [],
   "source": []
  },
  {
   "cell_type": "code",
   "execution_count": null,
   "metadata": {
    "id": "COeWE6XVgv0g"
   },
   "outputs": [],
   "source": []
  }
 ],
 "metadata": {
  "colab": {
   "provenance": []
  },
  "kernelspec": {
   "display_name": "Python 3",
   "name": "python3"
  },
  "language_info": {
   "name": "python"
  }
 },
 "nbformat": 4,
 "nbformat_minor": 0
}
