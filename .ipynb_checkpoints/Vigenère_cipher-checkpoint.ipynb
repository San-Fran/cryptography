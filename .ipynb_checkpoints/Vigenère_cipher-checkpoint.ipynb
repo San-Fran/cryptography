{
 "cells": [
  {
   "cell_type": "code",
   "execution_count": null,
   "metadata": {
    "colab": {
     "base_uri": "https://localhost:8080/"
    },
    "id": "GnPCJBV1C_sK",
    "outputId": "40839252-00de-4cf8-8ed9-863f4232f030"
   },
   "outputs": [
    {
     "data": {
      "text/plain": [
       "['a',\n",
       " 'b',\n",
       " 'c',\n",
       " 'd',\n",
       " 'e',\n",
       " 'f',\n",
       " 'g',\n",
       " 'h',\n",
       " 'i',\n",
       " 'j',\n",
       " 'k',\n",
       " 'l',\n",
       " 'm',\n",
       " 'n',\n",
       " 'o',\n",
       " 'p',\n",
       " 'q',\n",
       " 'r',\n",
       " 's',\n",
       " 't',\n",
       " 'u',\n",
       " 'v',\n",
       " 'w',\n",
       " 'x',\n",
       " 'y',\n",
       " 'z']"
      ]
     },
     "execution_count": 1,
     "metadata": {},
     "output_type": "execute_result"
    }
   ],
   "source": [
    "alphabet = [\"a\", \"b\", \"c\", \"d\", \"e\", \"f\", \"g\", \"h\", \"i\", \"j\", \"k\", \"l\", \"m\", \"n\", \"o\", \"p\", \"q\", \"r\", \"s\", \"t\", \"u\", \"v\", \"w\", \"x\", \"y\", \"z\"]\n",
    "alphabet"
   ]
  },
  {
   "cell_type": "code",
   "execution_count": null,
   "metadata": {
    "colab": {
     "base_uri": "https://localhost:8080/"
    },
    "id": "6tByp4m_9rHq",
    "outputId": "4d589ab5-9868-4c10-91f3-5a5284a084eb"
   },
   "outputs": [
    {
     "name": "stdout",
     "output_type": "stream",
     "text": [
      "['', 'a', 'b', 'c', 'd', 'e', 'f', 'g', 'h', 'i', 'j', 'k', 'l', 'm', 'n', 'o', 'p', 'q', 'r', 's', 't', 'u', 'v', 'w', 'x', 'y', 'z']\n",
      "['a', 'a', 'b', 'c', 'd', 'e', 'f', 'g', 'h', 'i', 'j', 'k', 'l', 'm', 'n', 'o', 'p', 'q', 'r', 's', 't', 'u', 'v', 'w', 'x', 'y', 'z']\n",
      "['b', 'b', 'c', 'd', 'e', 'f', 'g', 'h', 'i', 'j', 'k', 'l', 'm', 'n', 'o', 'p', 'q', 'r', 's', 't', 'u', 'v', 'w', 'x', 'y', 'z', 'a']\n",
      "['c', 'c', 'd', 'e', 'f', 'g', 'h', 'i', 'j', 'k', 'l', 'm', 'n', 'o', 'p', 'q', 'r', 's', 't', 'u', 'v', 'w', 'x', 'y', 'z', 'a', 'b']\n",
      "['d', 'd', 'e', 'f', 'g', 'h', 'i', 'j', 'k', 'l', 'm', 'n', 'o', 'p', 'q', 'r', 's', 't', 'u', 'v', 'w', 'x', 'y', 'z', 'a', 'b', 'c']\n",
      "['e', 'e', 'f', 'g', 'h', 'i', 'j', 'k', 'l', 'm', 'n', 'o', 'p', 'q', 'r', 's', 't', 'u', 'v', 'w', 'x', 'y', 'z', 'a', 'b', 'c', 'd']\n",
      "['f', 'f', 'g', 'h', 'i', 'j', 'k', 'l', 'm', 'n', 'o', 'p', 'q', 'r', 's', 't', 'u', 'v', 'w', 'x', 'y', 'z', 'a', 'b', 'c', 'd', 'e']\n",
      "['g', 'g', 'h', 'i', 'j', 'k', 'l', 'm', 'n', 'o', 'p', 'q', 'r', 's', 't', 'u', 'v', 'w', 'x', 'y', 'z', 'a', 'b', 'c', 'd', 'e', 'f']\n",
      "['h', 'h', 'i', 'j', 'k', 'l', 'm', 'n', 'o', 'p', 'q', 'r', 's', 't', 'u', 'v', 'w', 'x', 'y', 'z', 'a', 'b', 'c', 'd', 'e', 'f', 'g']\n",
      "['i', 'i', 'j', 'k', 'l', 'm', 'n', 'o', 'p', 'q', 'r', 's', 't', 'u', 'v', 'w', 'x', 'y', 'z', 'a', 'b', 'c', 'd', 'e', 'f', 'g', 'h']\n",
      "['j', 'j', 'k', 'l', 'm', 'n', 'o', 'p', 'q', 'r', 's', 't', 'u', 'v', 'w', 'x', 'y', 'z', 'a', 'b', 'c', 'd', 'e', 'f', 'g', 'h', 'i']\n",
      "['k', 'k', 'l', 'm', 'n', 'o', 'p', 'q', 'r', 's', 't', 'u', 'v', 'w', 'x', 'y', 'z', 'a', 'b', 'c', 'd', 'e', 'f', 'g', 'h', 'i', 'j']\n",
      "['l', 'l', 'm', 'n', 'o', 'p', 'q', 'r', 's', 't', 'u', 'v', 'w', 'x', 'y', 'z', 'a', 'b', 'c', 'd', 'e', 'f', 'g', 'h', 'i', 'j', 'k']\n",
      "['m', 'm', 'n', 'o', 'p', 'q', 'r', 's', 't', 'u', 'v', 'w', 'x', 'y', 'z', 'a', 'b', 'c', 'd', 'e', 'f', 'g', 'h', 'i', 'j', 'k', 'l']\n",
      "['n', 'n', 'o', 'p', 'q', 'r', 's', 't', 'u', 'v', 'w', 'x', 'y', 'z', 'a', 'b', 'c', 'd', 'e', 'f', 'g', 'h', 'i', 'j', 'k', 'l', 'm']\n",
      "['o', 'o', 'p', 'q', 'r', 's', 't', 'u', 'v', 'w', 'x', 'y', 'z', 'a', 'b', 'c', 'd', 'e', 'f', 'g', 'h', 'i', 'j', 'k', 'l', 'm', 'n']\n",
      "['p', 'p', 'q', 'r', 's', 't', 'u', 'v', 'w', 'x', 'y', 'z', 'a', 'b', 'c', 'd', 'e', 'f', 'g', 'h', 'i', 'j', 'k', 'l', 'm', 'n', 'o']\n",
      "['q', 'q', 'r', 's', 't', 'u', 'v', 'w', 'x', 'y', 'z', 'a', 'b', 'c', 'd', 'e', 'f', 'g', 'h', 'i', 'j', 'k', 'l', 'm', 'n', 'o', 'p']\n",
      "['r', 'r', 's', 't', 'u', 'v', 'w', 'x', 'y', 'z', 'a', 'b', 'c', 'd', 'e', 'f', 'g', 'h', 'i', 'j', 'k', 'l', 'm', 'n', 'o', 'p', 'q']\n",
      "['s', 's', 't', 'u', 'v', 'w', 'x', 'y', 'z', 'a', 'b', 'c', 'd', 'e', 'f', 'g', 'h', 'i', 'j', 'k', 'l', 'm', 'n', 'o', 'p', 'q', 'r']\n",
      "['t', 't', 'u', 'v', 'w', 'x', 'y', 'z', 'a', 'b', 'c', 'd', 'e', 'f', 'g', 'h', 'i', 'j', 'k', 'l', 'm', 'n', 'o', 'p', 'q', 'r', 's']\n",
      "['u', 'u', 'v', 'w', 'x', 'y', 'z', 'a', 'b', 'c', 'd', 'e', 'f', 'g', 'h', 'i', 'j', 'k', 'l', 'm', 'n', 'o', 'p', 'q', 'r', 's', 't']\n",
      "['v', 'v', 'w', 'x', 'y', 'z', 'a', 'b', 'c', 'd', 'e', 'f', 'g', 'h', 'i', 'j', 'k', 'l', 'm', 'n', 'o', 'p', 'q', 'r', 's', 't', 'u']\n",
      "['w', 'w', 'x', 'y', 'z', 'a', 'b', 'c', 'd', 'e', 'f', 'g', 'h', 'i', 'j', 'k', 'l', 'm', 'n', 'o', 'p', 'q', 'r', 's', 't', 'u', 'v']\n",
      "['x', 'x', 'y', 'z', 'a', 'b', 'c', 'd', 'e', 'f', 'g', 'h', 'i', 'j', 'k', 'l', 'm', 'n', 'o', 'p', 'q', 'r', 's', 't', 'u', 'v', 'w']\n",
      "['y', 'y', 'z', 'a', 'b', 'c', 'd', 'e', 'f', 'g', 'h', 'i', 'j', 'k', 'l', 'm', 'n', 'o', 'p', 'q', 'r', 's', 't', 'u', 'v', 'w', 'x']\n",
      "['z', 'z', 'a', 'b', 'c', 'd', 'e', 'f', 'g', 'h', 'i', 'j', 'k', 'l', 'm', 'n', 'o', 'p', 'q', 'r', 's', 't', 'u', 'v', 'w', 'x', 'y']\n"
     ]
    }
   ],
   "source": [
    "def constrcutTableau():\n",
    "  tableau = [[\"\" for j in range(0,27)] for i in range(0, 27)]\n",
    "\n",
    "  tableau[0][1] = \"a\"\n",
    "  tableau[0][2] = \"b\"\n",
    "  tableau[0][3] = \"c\"\n",
    "  tableau[0][4] = \"d\"\n",
    "  tableau[0][5] = \"e\"\n",
    "  tableau[0][6] = \"f\"\n",
    "  tableau[0][7] = \"g\"\n",
    "  tableau[0][8] = \"h\"\n",
    "  tableau[0][9] = \"i\"\n",
    "  tableau[0][10] = \"j\"\n",
    "  tableau[0][11] = \"k\"\n",
    "  tableau[0][12] = \"l\"\n",
    "  tableau[0][13] = \"m\"\n",
    "  tableau[0][14] = \"n\"\n",
    "  tableau[0][15] = \"o\"\n",
    "  tableau[0][16] = \"p\"\n",
    "  tableau[0][17] = \"q\"\n",
    "  tableau[0][18] = \"r\"\n",
    "  tableau[0][19] = \"s\"\n",
    "  tableau[0][20] = \"t\"\n",
    "  tableau[0][21] = \"u\"\n",
    "  tableau[0][22] = \"v\"\n",
    "  tableau[0][23] = \"w\"\n",
    "  tableau[0][24] = \"x\"\n",
    "  tableau[0][25] = \"y\"\n",
    "  tableau[0][26] = \"z\"\n",
    "\n",
    "  tableau[1][0] = \"a\"\n",
    "  tableau[2][0] = \"b\"\n",
    "  tableau[3][0] = \"c\"\n",
    "  tableau[4][0] = \"d\"\n",
    "  tableau[5][0] = \"e\"\n",
    "  tableau[6][0] = \"f\"\n",
    "  tableau[7][0] = \"g\"\n",
    "  tableau[8][0] = \"h\"\n",
    "  tableau[9][0] = \"i\"\n",
    "  tableau[10][0] = \"j\"\n",
    "  tableau[11][0] = \"k\"\n",
    "  tableau[12][0] = \"l\"\n",
    "  tableau[13][0] = \"m\"\n",
    "  tableau[14][0] = \"n\"\n",
    "  tableau[15][0] = \"o\"\n",
    "  tableau[16][0] = \"p\"\n",
    "  tableau[17][0] = \"q\"\n",
    "  tableau[18][0] = \"r\"\n",
    "  tableau[19][0] = \"s\"\n",
    "  tableau[20][0] = \"t\"\n",
    "  tableau[21][0] = \"u\"\n",
    "  tableau[22][0] = \"v\"\n",
    "  tableau[23][0] = \"w\"\n",
    "  tableau[24][0] = \"x\"\n",
    "  tableau[25][0] = \"y\"\n",
    "  tableau[26][0] = \"z\"\n",
    "\n",
    "  for j in range(1, 27):\n",
    "    index = 0\n",
    "    for i in range(1, 27):\n",
    "      tableau[i][j] = alphabet[index]\n",
    "      index = index + 1\n",
    "    alphabet.append(alphabet.pop(0))\n",
    "\n",
    "  for row in tableau:\n",
    "    print(row)\n",
    "\n",
    "  return tableau\n",
    "\n",
    "tableau = constrcutTableau()"
   ]
  },
  {
   "cell_type": "code",
   "execution_count": null,
   "metadata": {
    "id": "r5jpkY9OEzO6"
   },
   "outputs": [],
   "source": [
    "secret = \"fortification\"\n",
    "plaintext = \"defendtheeastwallofthecastle\""
   ]
  },
  {
   "cell_type": "code",
   "execution_count": null,
   "metadata": {
    "id": "cEiyIDeEFBU3"
   },
   "outputs": [],
   "source": [
    "def encrypt(message, secret, tableau):\n",
    "  key = getKey(secret, message)\n",
    "\n",
    "  ciphertext = \"\"\n",
    "\n",
    "  for i in range(0, len(message)):\n",
    "    firstLetter = message[i]\n",
    "    secondLetter = key[i]\n",
    "\n",
    "    row = None\n",
    "    column = None\n",
    "\n",
    "    for j in range(1, 27):\n",
    "      if(tableau[j][0]==firstLetter):\n",
    "        row = j\n",
    "\n",
    "    for k in range(1, 27):\n",
    "      if(tableau[0][k]==secondLetter):\n",
    "        column = k\n",
    "    ciphertext = ciphertext + tableau[row][column]\n",
    "\n",
    "  print(ciphertext)\n",
    "  return ciphertext"
   ]
  },
  {
   "cell_type": "code",
   "execution_count": null,
   "metadata": {
    "id": "xlJd2KP9YnOk"
   },
   "outputs": [],
   "source": [
    "def getKey(secret, message):\n",
    "  index = 0\n",
    "  key = \"\"\n",
    "  for i in range(0,len(message)):\n",
    "    key = key + secret[index]\n",
    "    index = index + 1\n",
    "    if index >= len(secret):\n",
    "      index = 0\n",
    "  print(key)\n",
    "  return key"
   ]
  },
  {
   "cell_type": "code",
   "execution_count": null,
   "metadata": {
    "colab": {
     "base_uri": "https://localhost:8080/"
    },
    "id": "ESTUfdUZGLxJ",
    "outputId": "6d9ed16d-a72d-45a3-bbdf-196ee1f9e43d"
   },
   "outputs": [
    {
     "name": "stdout",
     "output_type": "stream",
     "text": [
      "fortificationfortificationfo\n",
      "iswxvibjexiggbocewkbjeviggqs\n"
     ]
    }
   ],
   "source": [
    "ciphertext = encrypt(plaintext, secret, tableau)"
   ]
  },
  {
   "cell_type": "code",
   "execution_count": null,
   "metadata": {
    "id": "lfOkHvvxSbqY"
   },
   "outputs": [],
   "source": [
    "def decrypt(ciphertext, secret, tableau):\n",
    "  plaintext = \"\"\n",
    "  row = None\n",
    "  column = None\n",
    "  key = getKey(secret, ciphertext)\n",
    "  for i in range(0, len(key)):\n",
    "    for j in range(1, 27):\n",
    "      if(tableau[0][j]==key[i]):\n",
    "        column = j\n",
    "        break\n",
    "    for k in range(1, 27):\n",
    "      if(tableau[k][column]==ciphertext[i]):\n",
    "        row = k\n",
    "        break\n",
    "\n",
    "    plaintext = plaintext + tableau[row][0]\n",
    "\n",
    "  print(plaintext)"
   ]
  },
  {
   "cell_type": "code",
   "execution_count": null,
   "metadata": {
    "colab": {
     "base_uri": "https://localhost:8080/"
    },
    "id": "GnQ5sgI7Sbtj",
    "outputId": "06c1d184-7040-4e35-9e9b-194f42fb1058"
   },
   "outputs": [
    {
     "name": "stdout",
     "output_type": "stream",
     "text": [
      "fortificationfortificationfo\n",
      "defendtheeastwallofthecastle\n"
     ]
    }
   ],
   "source": [
    "decrypt(ciphertext, secret, tableau)"
   ]
  }
 ],
 "metadata": {
  "colab": {
   "provenance": []
  },
  "kernelspec": {
   "display_name": "Python 3",
   "name": "python3"
  },
  "language_info": {
   "name": "python"
  }
 },
 "nbformat": 4,
 "nbformat_minor": 0
}
