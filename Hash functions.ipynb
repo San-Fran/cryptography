{
 "cells": [
  {
   "cell_type": "code",
   "execution_count": 53,
   "metadata": {},
   "outputs": [],
   "source": [
    "import hashlib\n",
    "import base64\n",
    "import os"
   ]
  },
  {
   "cell_type": "code",
   "execution_count": 59,
   "metadata": {},
   "outputs": [],
   "source": [
    "message = \"This is the has value message\".encode()"
   ]
  },
  {
   "cell_type": "code",
   "execution_count": 60,
   "metadata": {},
   "outputs": [
    {
     "name": "stdout",
     "output_type": "stream",
     "text": [
      "Length of digest is  64\n",
      "0783fded56c6e81090964957cd7a394ea63eff79f608a8523a835ae7d077ab85\n"
     ]
    }
   ],
   "source": [
    "sha256 = hashlib.sha256()\n",
    "\n",
    "sha256.update(message)\n",
    "\n",
    "digest = sha256.hexdigest()\n",
    "\n",
    "print(\"Length of digest is \", len(digest))\n",
    "print(digest)"
   ]
  },
  {
   "cell_type": "code",
   "execution_count": 65,
   "metadata": {},
   "outputs": [
    {
     "name": "stdout",
     "output_type": "stream",
     "text": [
      "Base 64 string hash value:\n",
      "6gIfzwmjYuD57VUC8H0MNvg2NaiPUfmq24RmG4o7qEKwcP9swN65BY7wqBTdApD9V6ENNeIdjmlwJSWJtAo8oI1EwLt4ofdFQzowxAuR/RIh+4EsTJh5HO/EG18eeeJCzYGlvPH2fLq0EkGqaUZAFbJZd9N5snggsjNfMNsXyUuM9RhR/SV+vgaMsx+aIWaugDCYCKfDf/sT21oJqk5Q2Jd3LI/Mr7EB3lFmRTwzY/BaySydty5MYOKIH6uNIC/iJlPKczOGQVzBAmEuX8bngszBQxD+0zx72DyYf5+ms3/tRyBNzk3/HLRzsuD44x/gcvb/CRInrNEKVADm1hrR1Q==\n"
     ]
    }
   ],
   "source": [
    "password = \"ae\".encode()\n",
    "iterations = 40000\n",
    "salt = os.urandom(32)\n",
    "hashValue = hashlib.pbkdf2_hmac(\"sha512\", password, salt, iterations, dklen=256)\n",
    "print(\"Base 64 string hash value:\")\n",
    "print(base64.b64encode(hashValue).decode())"
   ]
  },
  {
   "cell_type": "code",
   "execution_count": 73,
   "metadata": {},
   "outputs": [],
   "source": [
    "# Password cracker of a password length of 2\n",
    "def passwordCracker(salt, iterations, hashValue):\n",
    "    alphabet = \"abcdefghijklmnopqrstuvwxyz\"\n",
    "    for c1 in alphabet:\n",
    "        for c2 in alphabet:\n",
    "            password = str.encode(c1 + c2)\n",
    "            value = hashlib.pbkdf2_hmac(\"sha512\", password, salt, iterations, dklen=256)\n",
    "            if value == hashValue:\n",
    "                return password.decode()\n",
    "    return \"\".encode()"
   ]
  },
  {
   "cell_type": "code",
   "execution_count": 74,
   "metadata": {},
   "outputs": [
    {
     "name": "stdout",
     "output_type": "stream",
     "text": [
      "The password is:  ae\n"
     ]
    }
   ],
   "source": [
    "crackedPassword = passwordCracker(salt, iterations, hashValue)\n",
    "print(\"The password is: \", crackedPassword)"
   ]
  }
 ],
 "metadata": {
  "kernelspec": {
   "display_name": "Python 3",
   "language": "python",
   "name": "python3"
  },
  "language_info": {
   "codemirror_mode": {
    "name": "ipython",
    "version": 3
   },
   "file_extension": ".py",
   "mimetype": "text/x-python",
   "name": "python",
   "nbconvert_exporter": "python",
   "pygments_lexer": "ipython3",
   "version": "3.8.5"
  }
 },
 "nbformat": 4,
 "nbformat_minor": 4
}
