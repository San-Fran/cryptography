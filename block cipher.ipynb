{
 "cells": [
  {
   "cell_type": "code",
   "execution_count": 26,
   "metadata": {},
   "outputs": [],
   "source": [
    "from pyDes import *\n",
    "import random"
   ]
  },
  {
   "cell_type": "markdown",
   "metadata": {},
   "source": [
    "# ECB Mode"
   ]
  },
  {
   "cell_type": "code",
   "execution_count": 27,
   "metadata": {},
   "outputs": [],
   "source": [
    "message = \"0123456701234567\"\n",
    "key = bytes([random.randrange(0, 256) for _ in range(0, 8)])\n",
    "iv = bytes([random.randrange(0, 256) for _ in range(0, 8)])"
   ]
  },
  {
   "cell_type": "code",
   "execution_count": 28,
   "metadata": {},
   "outputs": [],
   "source": [
    "k = des(key, ECB, pad=None, padmode=PAD_PKCS5)"
   ]
  },
  {
   "cell_type": "code",
   "execution_count": 29,
   "metadata": {},
   "outputs": [
    {
     "name": "stdout",
     "output_type": "stream",
     "text": [
      "b'\\xb8\\xe7q\\x16p\\xe7\\x11\\xdb\\xb8\\xe7q\\x16p\\xe7\\x11\\xdb\\xb4/+q\\x19z\\xc8\\xb5'\n"
     ]
    }
   ],
   "source": [
    "ciphertext = k.encrypt(message)\n",
    "print(ciphertext)"
   ]
  },
  {
   "cell_type": "code",
   "execution_count": 30,
   "metadata": {},
   "outputs": [
    {
     "name": "stdout",
     "output_type": "stream",
     "text": [
      "Length of the plaintext:  16\n",
      "Length of the ciphertext:  24\n",
      "Encrypted: b'\\xb8\\xe7q\\x16p\\xe7\\x11\\xdb'\n",
      "Encrypted: b'\\xb8\\xe7q\\x16p\\xe7\\x11\\xdb'\n",
      "Encrypted: b'\\xb4/+q\\x19z\\xc8\\xb5'\n"
     ]
    }
   ],
   "source": [
    "# When the final block of plaintext does not completly fill up the last block there will be padding\n",
    "# identical blocks will be encrypted to the same ciphertext if in ECB mode\n",
    "print(\"Length of the plaintext: \", len(message))\n",
    "print(\"Length of the ciphertext: \", len(ciphertext))\n",
    "print(\"Encrypted:\", ciphertext[0:8])\n",
    "print(\"Encrypted:\", ciphertext[8:16])\n",
    "print(\"Encrypted:\", ciphertext[16:])"
   ]
  },
  {
   "cell_type": "code",
   "execution_count": 31,
   "metadata": {},
   "outputs": [
    {
     "name": "stdout",
     "output_type": "stream",
     "text": [
      "0123456701234567\n"
     ]
    }
   ],
   "source": [
    "plaintext = k.decrypt(ciphertext)\n",
    "print(plaintext.decode())"
   ]
  },
  {
   "cell_type": "markdown",
   "metadata": {},
   "source": [
    "# CBC Mode"
   ]
  },
  {
   "cell_type": "code",
   "execution_count": 32,
   "metadata": {},
   "outputs": [],
   "source": [
    "message = \"0123456701234567\"\n",
    "key = bytes([random.randrange(0, 256) for _ in range(0, 8)])\n",
    "iv = bytes([random.randrange(0, 256) for _ in range(0, 8)])"
   ]
  },
  {
   "cell_type": "code",
   "execution_count": 33,
   "metadata": {},
   "outputs": [],
   "source": [
    "k = des(key, CBC, iv, pad=None, padmode=PAD_PKCS5)"
   ]
  },
  {
   "cell_type": "code",
   "execution_count": 34,
   "metadata": {},
   "outputs": [
    {
     "name": "stdout",
     "output_type": "stream",
     "text": [
      "b'T\\xfe\\xad\\x7fU\\xcb\\xf9\\xacT\\x84hf\\xbf\\xf1\\x92\\xdd\\x00\\xb7\\x86\\x07\\xb5j\\xe3\\x81'\n"
     ]
    }
   ],
   "source": [
    "ciphertext = k.encrypt(message)\n",
    "print(ciphertext)"
   ]
  },
  {
   "cell_type": "code",
   "execution_count": 35,
   "metadata": {},
   "outputs": [
    {
     "name": "stdout",
     "output_type": "stream",
     "text": [
      "Length of the plaintext:  16\n",
      "Length of the ciphertext:  24\n",
      "Encrypted: b'T\\xfe\\xad\\x7fU\\xcb\\xf9\\xac'\n",
      "Encrypted: b'T\\x84hf\\xbf\\xf1\\x92\\xdd'\n",
      "Encrypted: b'\\x00\\xb7\\x86\\x07\\xb5j\\xe3\\x81'\n"
     ]
    }
   ],
   "source": [
    "# Each preceding block feedforwards its ciphertext to be xor with the plaintext before encrypting the data with the key. \n",
    "# This causes blocks with identical plaintext to have a different ciphertext output\n",
    "print(\"Length of the plaintext: \", len(message))\n",
    "print(\"Length of the ciphertext: \", len(ciphertext))\n",
    "print(\"Encrypted:\", ciphertext[0:8])\n",
    "print(\"Encrypted:\", ciphertext[8:16])\n",
    "print(\"Encrypted:\", ciphertext[16:])"
   ]
  },
  {
   "cell_type": "code",
   "execution_count": 36,
   "metadata": {},
   "outputs": [
    {
     "name": "stdout",
     "output_type": "stream",
     "text": [
      "0123456701234567\n"
     ]
    }
   ],
   "source": [
    "plaintext = k.decrypt(ciphertext)\n",
    "print(plaintext.decode())"
   ]
  }
 ],
 "metadata": {
  "kernelspec": {
   "display_name": "Python 3",
   "language": "python",
   "name": "python3"
  },
  "language_info": {
   "codemirror_mode": {
    "name": "ipython",
    "version": 3
   },
   "file_extension": ".py",
   "mimetype": "text/x-python",
   "name": "python",
   "nbconvert_exporter": "python",
   "pygments_lexer": "ipython3",
   "version": "3.8.5"
  }
 },
 "nbformat": 4,
 "nbformat_minor": 4
}
