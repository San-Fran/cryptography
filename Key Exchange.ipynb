{
 "cells": [
  {
   "cell_type": "code",
   "execution_count": 12,
   "metadata": {},
   "outputs": [],
   "source": [
    "import math\n",
    "import random"
   ]
  },
  {
   "cell_type": "markdown",
   "metadata": {},
   "source": [
    "# Diffie-Hellman Key Exchange"
   ]
  },
  {
   "cell_type": "code",
   "execution_count": 8,
   "metadata": {},
   "outputs": [],
   "source": [
    "def isNumPrime(p):\n",
    "    for i in range(2,math.isqrt(p)):\n",
    "        if(p%i == 0):\n",
    "            return False\n",
    "    return True"
   ]
  },
  {
   "cell_type": "code",
   "execution_count": 10,
   "metadata": {},
   "outputs": [],
   "source": [
    "def getPrime(size):\n",
    "    while True:\n",
    "        p = random.randrange(size, 2**size)\n",
    "        if(isNumPrime(p)):\n",
    "            return p"
   ]
  },
  {
   "cell_type": "code",
   "execution_count": 113,
   "metadata": {},
   "outputs": [],
   "source": [
    "def isGenerator(g, p):\n",
    "    dict = {}\n",
    "    for i in range(1,p-1):\n",
    "        num = (g**i)%p\n",
    "        if(num not in dict):\n",
    "            dict[num] = True\n",
    "        else:\n",
    "            return False\n",
    "    return True"
   ]
  },
  {
   "cell_type": "code",
   "execution_count": 114,
   "metadata": {},
   "outputs": [],
   "source": [
    "def getGenerator(p):\n",
    "    for g in range(2, p):\n",
    "        if(isGenerator(g, p)):\n",
    "            return g"
   ]
  },
  {
   "cell_type": "code",
   "execution_count": 277,
   "metadata": {},
   "outputs": [],
   "source": [
    "def getPrimeAndGenerator(size):\n",
    "    for _ in range(0,10):\n",
    "        p = getPrime(size)\n",
    "        g = getGenerator(p)\n",
    "        if g != None:\n",
    "            return [p, g]"
   ]
  },
  {
   "cell_type": "markdown",
   "metadata": {},
   "source": [
    "## Generate shared public number p and g"
   ]
  },
  {
   "cell_type": "code",
   "execution_count": 299,
   "metadata": {},
   "outputs": [
    {
     "name": "stdout",
     "output_type": "stream",
     "text": [
      "5701 2\n"
     ]
    }
   ],
   "source": [
    "p, g = getPrimeAndGenerator(13)\n",
    "print(p, g)"
   ]
  },
  {
   "cell_type": "markdown",
   "metadata": {},
   "source": [
    "## Generate Alice's private number then compute the result and send it to Bob"
   ]
  },
  {
   "cell_type": "code",
   "execution_count": 272,
   "metadata": {},
   "outputs": [
    {
     "name": "stdout",
     "output_type": "stream",
     "text": [
      "Alice g_a:  647\n"
     ]
    }
   ],
   "source": [
    "a = random.randrange(0, p)\n",
    "g_a = (g**a) % p\n",
    "print(\"Alice g_a: \", g_a)"
   ]
  },
  {
   "cell_type": "markdown",
   "metadata": {},
   "source": [
    "## Generate Bob's private number then compute the result and send it to Alice"
   ]
  },
  {
   "cell_type": "code",
   "execution_count": 273,
   "metadata": {},
   "outputs": [
    {
     "name": "stdout",
     "output_type": "stream",
     "text": [
      "Bob g_b:  945\n"
     ]
    }
   ],
   "source": [
    "b = random.randrange(0, p)\n",
    "g_b = (g**b) % p\n",
    "print(\"Bob g_b: \", g_b)"
   ]
  },
  {
   "cell_type": "markdown",
   "metadata": {},
   "source": [
    "## Alice and Bob compute the shared secret number"
   ]
  },
  {
   "cell_type": "code",
   "execution_count": 274,
   "metadata": {},
   "outputs": [
    {
     "name": "stdout",
     "output_type": "stream",
     "text": [
      "367 367\n"
     ]
    }
   ],
   "source": [
    "Alice_g_ab = (g_b**a) % p\n",
    "Bob_g_ab = (g_a**b) % p\n",
    "print(Alice_g_ab, Bob_g_ab)"
   ]
  },
  {
   "cell_type": "code",
   "execution_count": null,
   "metadata": {},
   "outputs": [],
   "source": []
  }
 ],
 "metadata": {
  "kernelspec": {
   "display_name": "Python 3",
   "language": "python",
   "name": "python3"
  },
  "language_info": {
   "codemirror_mode": {
    "name": "ipython",
    "version": 3
   },
   "file_extension": ".py",
   "mimetype": "text/x-python",
   "name": "python",
   "nbconvert_exporter": "python",
   "pygments_lexer": "ipython3",
   "version": "3.8.5"
  }
 },
 "nbformat": 4,
 "nbformat_minor": 4
}
