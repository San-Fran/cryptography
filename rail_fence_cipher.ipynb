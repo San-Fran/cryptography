{
 "cells": [
  {
   "cell_type": "code",
   "execution_count": 6,
   "metadata": {
    "id": "QiI00L2xOh0n"
   },
   "outputs": [],
   "source": [
    "text = \"hello world\""
   ]
  },
  {
   "cell_type": "code",
   "execution_count": 7,
   "metadata": {
    "id": "SxQgi_J7Ouya"
   },
   "outputs": [],
   "source": [
    "def encrypt(rails, plaintext):\n",
    "  arr = [[] for i in range(rails)]\n",
    "  i = 0\n",
    "  while(i<len(plaintext)):\n",
    "    for j in range(0, len(arr)):\n",
    "      arr[j].append(plaintext[i])\n",
    "      i = i + 1\n",
    "      if(i>=len(plaintext)):\n",
    "        break\n",
    "    if(i>=len(plaintext)):\n",
    "      print(arr)\n",
    "      break\n",
    "    for k in range(len(arr)-2, 0,-1):\n",
    "      # print(k)\n",
    "      arr[k].append(plaintext[i])\n",
    "      i = i + 1\n",
    "      if(i==len(plaintext)):\n",
    "        break\n",
    "  ciphertext = \"\"\n",
    "  for l in arr:\n",
    "    for char in l:\n",
    "      ciphertext = ciphertext + char\n",
    "  print(ciphertext)\n",
    "  return ciphertext"
   ]
  },
  {
   "cell_type": "code",
   "execution_count": 8,
   "metadata": {
    "colab": {
     "base_uri": "https://localhost:8080/"
    },
    "id": "ooOEpaSFOu5G",
    "outputId": "c9c8dd1c-f323-4e0e-cc88-d95b18a1aa28"
   },
   "outputs": [
    {
     "name": "stdout",
     "output_type": "stream",
     "text": [
      "[['h', 'o', 'r'], ['e', 'l', ' ', 'o', 'l'], ['l', 'w', 'd']]\n",
      "horel ollwd\n",
      "horel ollwd\n"
     ]
    }
   ],
   "source": [
    "ciphertext = encrypt(3, text)\n",
    "print(ciphertext)"
   ]
  },
  {
   "cell_type": "code",
   "execution_count": 9,
   "metadata": {
    "id": "pxfyAkSqithj"
   },
   "outputs": [],
   "source": [
    "def decrypt(plaintext, rails):\n",
    "  arr = [[] for i in range(rails)]\n",
    "  i = 0\n",
    "  emptyChar = \" \"\n",
    "  while(i<len(plaintext)):\n",
    "    for j in range(0, len(arr)):\n",
    "      arr[j].append(emptyChar)\n",
    "      i = i + 1\n",
    "      if(i>=len(plaintext)):\n",
    "        break\n",
    "    if(i>=len(plaintext)):\n",
    "      break\n",
    "    for k in range(len(arr)-2, 0,-1):\n",
    "      arr[k].append(emptyChar)\n",
    "      i = i + 1\n",
    "      if(i==len(plaintext)):\n",
    "        break\n",
    "\n",
    "  index = 0\n",
    "  for l in arr:\n",
    "    for i in range(0, len(l)):\n",
    "      l[i] = plaintext[index]\n",
    "      index = index + 1\n",
    "\n",
    "  counter = 0\n",
    "  row = 0\n",
    "  direction = \"up\"\n",
    "  text = \"\"\n",
    "  while(counter<len(plaintext)):\n",
    "    text = text + arr[row].pop(0)\n",
    "    if direction == \"up\":\n",
    "      row = row + 1\n",
    "    elif(direction == \"down\"):\n",
    "      row = row - 1\n",
    "\n",
    "    if(row>=len(arr)):\n",
    "      direction = \"down\"\n",
    "      row = row - 2\n",
    "    elif(row<=-1):\n",
    "      direction = \"up\"\n",
    "      row = row + 2\n",
    "    counter = counter + 1\n",
    "  print(text)\n"
   ]
  },
  {
   "cell_type": "code",
   "execution_count": 10,
   "metadata": {
    "colab": {
     "base_uri": "https://localhost:8080/"
    },
    "id": "7Pqe1iAQsTms",
    "outputId": "04fb9504-6a89-4f9d-b014-ec911752f0b2"
   },
   "outputs": [
    {
     "name": "stdout",
     "output_type": "stream",
     "text": [
      "hello world\n"
     ]
    }
   ],
   "source": [
    "decrypt(ciphertext, 3)"
   ]
  }
 ],
 "metadata": {
  "colab": {
   "provenance": []
  },
  "kernelspec": {
   "display_name": "Python 3",
   "language": "python",
   "name": "python3"
  },
  "language_info": {
   "codemirror_mode": {
    "name": "ipython",
    "version": 3
   },
   "file_extension": ".py",
   "mimetype": "text/x-python",
   "name": "python",
   "nbconvert_exporter": "python",
   "pygments_lexer": "ipython3",
   "version": "3.8.5"
  }
 },
 "nbformat": 4,
 "nbformat_minor": 1
}
