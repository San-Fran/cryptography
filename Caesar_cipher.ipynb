{
 "cells": [
  {
   "cell_type": "markdown",
   "metadata": {},
   "source": [
    "# Encrypt and Decrypt data using the Caesar Cipher"
   ]
  },
  {
   "cell_type": "code",
   "execution_count": 1,
   "metadata": {
    "id": "aYrJTqfpBWOv"
   },
   "outputs": [],
   "source": [
    "# declare plaintext variable\n",
    "plaintext = \"hello world this is a message\""
   ]
  },
  {
   "cell_type": "code",
   "execution_count": 2,
   "metadata": {
    "id": "lmfTqqHXB1SC"
   },
   "outputs": [],
   "source": [
    "alphabet = {\"a\": 0, \"b\" : 1, \"c\" : 2, \"d\" : 3,\n",
    "            \"e\": 4, \"f\" : 5, \"g\" : 6, \"h\" : 7,\n",
    "            \"i\": 8, \"j\" : 9, \"k\" : 10, \"l\" : 11,\n",
    "            \"m\": 12, \"n\" : 13, \"o\" : 14, \"p\" : 15,\n",
    "            \"q\": 16, \"r\" : 17, \"s\" : 18, \"t\" : 19,\n",
    "            \"u\": 20, \"v\" : 21, \"w\" : 22, \"x\" : 23,\n",
    "            \"y\": 24, \"z\" : 25\n",
    "}"
   ]
  },
  {
   "cell_type": "code",
   "execution_count": 3,
   "metadata": {
    "id": "10q6QT6REUDV"
   },
   "outputs": [],
   "source": [
    "positionOfLetters = {\n",
    "    0: \"a\", 1: \"b\", 2: \"c\", 3: \"d\", 4: \"e\", 5: \"f\", 6: \"g\",7: \"h\", 8: \"i\", 9: \"j\", 10: \"k\", 11: \"l\", 12: \"m\", 13: \"n\",\n",
    "    14: \"o\", 15: \"p\", 16: \"q\", 17: \"r\", 18: \"s\", 19: \"t\", 20: \"u\", 21: \"v\", 22: \"w\", 23: \"x\", 24: \"y\", 25: \"z\",\n",
    "}"
   ]
  },
  {
   "cell_type": "code",
   "execution_count": 4,
   "metadata": {
    "id": "NfT1-vkUBJqO"
   },
   "outputs": [],
   "source": [
    "def encrypt(key, message):\n",
    "  cipherText = \"\"\n",
    "  for letter in message:\n",
    "    if(letter!=\" \"):\n",
    "      newPosition = (alphabet.get(letter) + key) % 26\n",
    "      cipherText += positionOfLetters.get(newPosition)\n",
    "    else:\n",
    "      cipherText += \" \"\n",
    "  return cipherText"
   ]
  },
  {
   "cell_type": "code",
   "execution_count": 5,
   "metadata": {
    "id": "-kes8iR5JI9Y"
   },
   "outputs": [],
   "source": [
    "def decrypt(key, message):\n",
    "  decryptedText = \"\"\n",
    "  for letter in message:\n",
    "    if(letter!=\" \"):\n",
    "      newPosition = (alphabet.get(letter) - key) % 26\n",
    "      decryptedText += positionOfLetters.get(newPosition)\n",
    "    else:\n",
    "      decryptedText += \" \"\n",
    "  return decryptedText"
   ]
  },
  {
   "cell_type": "code",
   "execution_count": 6,
   "metadata": {
    "colab": {
     "base_uri": "https://localhost:8080/"
    },
    "id": "iAlPS-8FVTe6",
    "outputId": "3b2f49ae-6bfd-4fc7-ff8b-47ed1cdf7288"
   },
   "outputs": [
    {
     "name": "stdout",
     "output_type": "stream",
     "text": [
      "hello world this is a message\n"
     ]
    }
   ],
   "source": [
    "print(plaintext)"
   ]
  },
  {
   "cell_type": "code",
   "execution_count": 7,
   "metadata": {
    "colab": {
     "base_uri": "https://localhost:8080/"
    },
    "id": "OOeXFYLuJIRw",
    "outputId": "3778187d-edd1-41e3-e48a-3ad180f56fd2"
   },
   "outputs": [
    {
     "name": "stdout",
     "output_type": "stream",
     "text": [
      "khoor zruog wklv lv d phvvdjh\n"
     ]
    }
   ],
   "source": [
    "encrypted_text = encrypt(3,plaintext)\n",
    "print(encrypted_text)"
   ]
  },
  {
   "cell_type": "code",
   "execution_count": 8,
   "metadata": {
    "colab": {
     "base_uri": "https://localhost:8080/"
    },
    "id": "V8clcPnvBJwD",
    "outputId": "cb2dc0ea-b9db-481b-fcd5-bee72b6f9a35"
   },
   "outputs": [
    {
     "name": "stdout",
     "output_type": "stream",
     "text": [
      "hello world this is a message\n"
     ]
    }
   ],
   "source": [
    "text = decrypt(3,encrypted_text)\n",
    "print(text)"
   ]
  },
  {
   "cell_type": "markdown",
   "metadata": {
    "id": "EWtrVwN23Im2"
   },
   "source": [
    "# Attack Caesar Cipher"
   ]
  },
  {
   "cell_type": "code",
   "execution_count": 9,
   "metadata": {
    "colab": {
     "base_uri": "https://localhost:8080/"
    },
    "id": "Zd8PG-M8BJ2S",
    "outputId": "b8c13397-20ca-4406-b19a-b7a16ea123fc"
   },
   "outputs": [
    {
     "name": "stdout",
     "output_type": "stream",
     "text": [
      "jgnnq yqtnf vjku ku c oguucig\n",
      "\n",
      "ifmmp xpsme uijt jt b nfttbhf\n",
      "\n",
      "hello world this is a message\n",
      "\n",
      "gdkkn vnqkc sghr hr z ldrrzfd\n",
      "\n",
      "fcjjm umpjb rfgq gq y kcqqyec\n",
      "\n",
      "ebiil tloia qefp fp x jbppxdb\n",
      "\n",
      "dahhk sknhz pdeo eo w iaoowca\n",
      "\n",
      "czggj rjmgy ocdn dn v hznnvbz\n",
      "\n",
      "byffi qilfx nbcm cm u gymmuay\n",
      "\n",
      "axeeh phkew mabl bl t fxlltzx\n",
      "\n",
      "zwddg ogjdv lzak ak s ewkksyw\n",
      "\n",
      "yvccf nficu kyzj zj r dvjjrxv\n",
      "\n",
      "xubbe mehbt jxyi yi q cuiiqwu\n",
      "\n",
      "wtaad ldgas iwxh xh p bthhpvt\n",
      "\n",
      "vszzc kcfzr hvwg wg o asggous\n",
      "\n",
      "uryyb jbeyq guvf vf n zrffntr\n",
      "\n",
      "tqxxa iadxp ftue ue m yqeemsq\n",
      "\n",
      "spwwz hzcwo estd td l xpddlrp\n",
      "\n",
      "rovvy gybvn drsc sc k wocckqo\n",
      "\n",
      "qnuux fxaum cqrb rb j vnbbjpn\n",
      "\n",
      "pmttw ewztl bpqa qa i umaaiom\n",
      "\n",
      "olssv dvysk aopz pz h tlzzhnl\n",
      "\n",
      "nkrru cuxrj znoy oy g skyygmk\n",
      "\n",
      "mjqqt btwqi ymnx nx f rjxxflj\n",
      "\n",
      "lipps asvph xlmw mw e qiwweki\n",
      "\n",
      "0.0009999275207519531 seconds\n"
     ]
    }
   ],
   "source": [
    "import time\n",
    "\n",
    "def bruteForceAttack():\n",
    "  for i in range(1,26):\n",
    "    text = decrypt(i,encrypted_text)\n",
    "    print(text + \"\\n\")\n",
    "\n",
    "t0 = time.time()\n",
    "bruteForceAttack()\n",
    "t1 = time.time()\n",
    "\n",
    "total = t1-t0\n",
    "print(str(total) + \" seconds\")"
   ]
  }
 ],
 "metadata": {
  "colab": {
   "provenance": []
  },
  "kernelspec": {
   "display_name": "Python 3",
   "language": "python",
   "name": "python3"
  },
  "language_info": {
   "codemirror_mode": {
    "name": "ipython",
    "version": 3
   },
   "file_extension": ".py",
   "mimetype": "text/x-python",
   "name": "python",
   "nbconvert_exporter": "python",
   "pygments_lexer": "ipython3",
   "version": "3.8.5"
  }
 },
 "nbformat": 4,
 "nbformat_minor": 1
}
