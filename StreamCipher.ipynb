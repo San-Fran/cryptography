{
 "cells": [
  {
   "cell_type": "code",
   "execution_count": 1,
   "metadata": {},
   "outputs": [],
   "source": [
    "import random"
   ]
  },
  {
   "cell_type": "code",
   "execution_count": 2,
   "metadata": {},
   "outputs": [],
   "source": [
    "class KeyStream:\n",
    "    def __init__(self, key=1):\n",
    "        self.state = key\n",
    "        \n",
    "    def rand(self):\n",
    "        self.state = (80279573*self.state + 47359874) % 2**31\n",
    "        return self.state\n",
    "        \n",
    "    def get_key_ascii(self):\n",
    "        return self.rand() % 128"
   ]
  },
  {
   "cell_type": "code",
   "execution_count": 3,
   "metadata": {},
   "outputs": [],
   "source": [
    "# simulate a bit flip during transmission\n",
    "def transmit(cipher, probability):\n",
    "    b = []\n",
    "    for c in cipher:\n",
    "        if random.randrange(0, probability) == 0:\n",
    "            c = random.randrange(0, 128)\n",
    "        b.append(c)\n",
    "    return bytes(b)"
   ]
  },
  {
   "cell_type": "code",
   "execution_count": 4,
   "metadata": {},
   "outputs": [],
   "source": [
    "def encrypt(key, data):\n",
    "    return bytes([key.get_key_ascii() ^ data[i] for i in range(len(data))])"
   ]
  },
  {
   "cell_type": "code",
   "execution_count": 5,
   "metadata": {},
   "outputs": [],
   "source": [
    "def decrypt(key, data):\n",
    "    return bytes([key.get_key_ascii() ^ data[i] for i in range(len(data))])"
   ]
  },
  {
   "cell_type": "code",
   "execution_count": 6,
   "metadata": {},
   "outputs": [],
   "source": [
    "message = \"Hello World!\".encode(encoding=\"ascii\")\n",
    "key = KeyStream(10)"
   ]
  },
  {
   "cell_type": "code",
   "execution_count": 7,
   "metadata": {},
   "outputs": [
    {
     "name": "stdout",
     "output_type": "stream",
     "text": [
      "b'\\x1c\\x03\\x0c\\x0ec^\\x0fU6z43'\n"
     ]
    }
   ],
   "source": [
    "#  encrypt\n",
    "ciphertext = encrypt(key, message)\n",
    "print(ciphertext)"
   ]
  },
  {
   "cell_type": "code",
   "execution_count": 8,
   "metadata": {},
   "outputs": [
    {
     "data": {
      "text/plain": [
       "'Hello World!'"
      ]
     },
     "execution_count": 8,
     "metadata": {},
     "output_type": "execute_result"
    }
   ],
   "source": [
    "#  decrypt\n",
    "key = KeyStream(10)\n",
    "plaintext = decrypt(key, ciphertext)\n",
    "plaintext.decode()"
   ]
  },
  {
   "cell_type": "code",
   "execution_count": 9,
   "metadata": {},
   "outputs": [
    {
     "name": "stdout",
     "output_type": "stream",
     "text": [
      "b'\\x1c\\x03\\x0c\\x0ec^\\x0fU6z43'\n",
      "b'\\x05\\x03?;c^FU}z43'\n"
     ]
    },
    {
     "data": {
      "text/plain": [
       "'Qe_Yo \\x1eo9ld!'"
      ]
     },
     "execution_count": 9,
     "metadata": {},
     "output_type": "execute_result"
    }
   ],
   "source": [
    "# encrypt then decrypt when bits have been flipped\n",
    "key = KeyStream(10)\n",
    "ciphertext = encrypt(key, message)\n",
    "print(ciphertext)\n",
    "\n",
    "# transmit message\n",
    "ciphertext = transmit(ciphertext, 5)\n",
    "print(ciphertext)\n",
    "\n",
    "key = KeyStream(10)\n",
    "plaintext = decrypt(key, ciphertext)\n",
    "plaintext.decode()"
   ]
  }
 ],
 "metadata": {
  "kernelspec": {
   "display_name": "Python 3",
   "language": "python",
   "name": "python3"
  },
  "language_info": {
   "codemirror_mode": {
    "name": "ipython",
    "version": 3
   },
   "file_extension": ".py",
   "mimetype": "text/x-python",
   "name": "python",
   "nbconvert_exporter": "python",
   "pygments_lexer": "ipython3",
   "version": "3.8.5"
  }
 },
 "nbformat": 4,
 "nbformat_minor": 4
}
